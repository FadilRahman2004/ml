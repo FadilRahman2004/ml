{
 "cells": [
  {
   "cell_type": "code",
   "execution_count": null,
   "id": "aeb3a3c2-5a95-4bff-a3c9-bfb6ccb8d28a",
   "metadata": {},
   "outputs": [],
   "source": [
    "import os\n",
    "import numpy as np\n",
    "import pandas as pd\n",
    "import matplotlib.pyplot as plt\n",
    "from scipy.spatial.distance import cdist\n",
    "\n",
    "# Fix memory leak issue on Windows\n",
    "os.environ[\"OMP_NUM_THREADS\"] = \"1\"\n",
    "\n",
    "# Step 1: Define the dataset with corrected value\n",
    "data = np.array([\n",
    "    [1.0, 1.0],\n",
    "    [1.5, 2.0],\n",
    "    [3.0, 4.0],\n",
    "    [5.0, 7.0],  \n",
    "    [3.5, 5.0],\n",
    "    [4.5, 5.0],\n",
    "    [3.5, 4.5]\n",
    "])\n",
    "\n",
    "# Step 2: Initialize centroids manually\n",
    "centroids = np.array([[1.0, 1.0], [5.0, 7.0]])\n",
    "\n",
    "# Step 3: Compute distances and assign clusters\n",
    "distances = cdist(data, centroids, 'euclidean')\n",
    "labels = np.argmin(distances, axis=1)\n",
    "\n",
    "# Step 4: Recompute centroids\n",
    "new_centroids = np.array([data[labels == i].mean(axis=0) for i in range(2)])\n",
    "\n",
    "# Step 5: Print results\n",
    "print(\"Cluster Assignments:\", labels)\n",
    "print(\"New Centroids:\", new_centroids)\n",
    "\n",
    "# Step 6: Plot the results\n",
    "plt.scatter(data[:, 0], data[:, 1], c=labels, cmap='viridis', marker='o', edgecolors='k')\n",
    "plt.scatter(new_centroids[:, 0], new_centroids[:, 1], c='red', marker='x', s=200, label='Centroids')\n",
    "plt.xlabel('Variable 1')\n",
    "plt.ylabel('Variable 2')\n",
    "plt.title('Manual K-Means Clustering - 1st Iteration')\n",
    "plt.legend()\n",
    "plt.show()"
   ]
  }
 ],
 "metadata": {
  "kernelspec": {
   "display_name": "Python 3 (ipykernel)",
   "language": "python",
   "name": "python3"
  },
  "language_info": {
   "codemirror_mode": {
    "name": "ipython",
    "version": 3
   },
   "file_extension": ".py",
   "mimetype": "text/x-python",
   "name": "python",
   "nbconvert_exporter": "python",
   "pygments_lexer": "ipython3",
   "version": "3.13.2"
  }
 },
 "nbformat": 4,
 "nbformat_minor": 5
}
