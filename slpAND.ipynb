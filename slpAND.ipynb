{
 "cells": [
  {
   "cell_type": "code",
   "execution_count": null,
   "id": "31514baf-09c6-474f-9031-30555aa56dd9",
   "metadata": {},
   "outputs": [],
   "source": [
    "import numpy as np\n",
    "\n",
    "# Define the data\n",
    "X = np.array([[0, 0], [0, 1], [1, 0], [1, 1]])\n",
    "y = np.array([0, 0, 0, 1])\n",
    "\n",
    "# Initialize weights and bias\n",
    "weights = np.random.randn(2)\n",
    "bias = np.random.randn(1)\n",
    "learning_rate = 0.1\n",
    "max_epochs = 100\n",
    "\n",
    "def perceptron(X, y, weights, bias, learning_rate, max_epochs):\n",
    "    epoch = 0\n",
    "    while epoch < max_epochs:\n",
    "        epoch += 1\n",
    "        weight_updates = 0\n",
    "\n",
    "        for i in range(len(X)):\n",
    "            output = np.dot(X[i], weights) + bias\n",
    "            prediction = 1 if output >= 0 else 0\n",
    "            error = y[i] - prediction\n",
    "            \n",
    "            if error != 0:\n",
    "                weights += learning_rate * error * X[i]\n",
    "                bias += learning_rate * error\n",
    "                weight_updates += 1\n",
    "\n",
    "        if weight_updates == 0:\n",
    "            print(f\"Converged after {epoch} iterations.\")\n",
    "            break\n",
    "\n",
    "    return weights, bias\n",
    "\n",
    "# Train the perceptron\n",
    "weights, bias = perceptron(X, y, weights, bias, learning_rate, max_epochs)\n",
    "\n",
    "print(f\"Final weights: {weights}\")\n",
    "print(f\"Final bias: {bias}\")\n"
   ]
  }
 ],
 "metadata": {
  "kernelspec": {
   "display_name": "Python 3 (ipykernel)",
   "language": "python",
   "name": "python3"
  },
  "language_info": {
   "codemirror_mode": {
    "name": "ipython",
    "version": 3
   },
   "file_extension": ".py",
   "mimetype": "text/x-python",
   "name": "python",
   "nbconvert_exporter": "python",
   "pygments_lexer": "ipython3",
   "version": "3.13.2"
  }
 },
 "nbformat": 4,
 "nbformat_minor": 5
}
