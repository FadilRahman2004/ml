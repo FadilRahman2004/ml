{
 "cells": [
  {
   "cell_type": "code",
   "execution_count": 1,
   "id": "959458f1-7df9-481f-a2d6-5145912fb5a7",
   "metadata": {},
   "outputs": [
    {
     "name": "stdout",
     "output_type": "stream",
     "text": [
      "b0: -6.524670721622224, b1: 0.9933985749888447\n",
      "Predicted values (y):\n",
      "[0.08687546 0.18872166 0.2571225  0.83496023 0.91803299 0.92520445]\n"
     ]
    }
   ],
   "source": [
    "import numpy as np\n",
    "X_data = np.array([4.2, 5.1, 5.5, 8.2, 9.0, 9.1])\n",
    "y_data = np.array([0, 0, 0, 1, 1, 1])\n",
    "b0 = 0\n",
    "b1 = 0\n",
    "learning_rate = 0.01\n",
    "iterations = 10000\n",
    "for _ in range(iterations):\n",
    " z = b0 + b1 * X_data\n",
    " y_hat = 1 / (1 + np.exp(-z))\n",
    " error = y_hat - y_data\n",
    " b0 -= learning_rate * error.mean()\n",
    " b1 -= learning_rate * (error * X_data).mean()\n",
    "print(f\"b0: {b0}, b1: {b1}\")\n",
    "y_pred = 1 / (1 + np.exp(-(b0 + b1 * X_data)))\n",
    "print(\"Predicted values (y):\")\n",
    "print(y_pred)"
   ]
  },
  {
   "cell_type": "code",
   "execution_count": null,
   "id": "6967704e-de24-49ad-b4be-c777d2d1f67f",
   "metadata": {},
   "outputs": [],
   "source": []
  }
 ],
 "metadata": {
  "kernelspec": {
   "display_name": "Python 3 (ipykernel)",
   "language": "python",
   "name": "python3"
  },
  "language_info": {
   "codemirror_mode": {
    "name": "ipython",
    "version": 3
   },
   "file_extension": ".py",
   "mimetype": "text/x-python",
   "name": "python",
   "nbconvert_exporter": "python",
   "pygments_lexer": "ipython3",
   "version": "3.13.2"
  }
 },
 "nbformat": 4,
 "nbformat_minor": 5
}
