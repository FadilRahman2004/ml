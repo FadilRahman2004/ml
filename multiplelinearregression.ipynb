{
 "cells": [
  {
   "cell_type": "code",
   "execution_count": null,
   "id": "00c22c47-a861-472e-b9c7-36c6427f7dec",
   "metadata": {},
   "outputs": [],
   "source": [
    "X1 = [60,62,67,70,71,72,75,78]\n",
    "X2 = [22,25,24,20,15,14,14,11]\n",
    "Y = [140,155,159,179,192,200,212,215]\n",
    "\n",
    "mean_X1 = sum(X1) / len(X1)\n",
    "mean_Y = sum(Y) / len(Y)\n",
    "mean_X2 = sum(X2) / len(X2)\n",
    "\n",
    "numerator = 0\n",
    "denominator = 0\n",
    "num=0\n",
    "\n",
    "summasionX1X1=0\n",
    "summasionX2X2=0\n",
    "summasionX1Y=0\n",
    "summasionX2Y=0\n",
    "summasionX1X2 =0\n",
    "\n",
    "for i in range(len(X1)):\n",
    "    summasionX1X1 += X1[i]*X1[i]\n",
    "    summasionX2X2 += X2[i]*X2[i]\n",
    "    summasionX1Y += X1[i]*Y[i]\n",
    "    summasionX2Y += X2[i]*Y[i]\n",
    "    summasionX1X2 += X1[i]*X2[i]\n",
    "    summasionx1sq = summasionX1X1 - ((sum(X1)*sum(X1))/len(X1))\n",
    "    summasionx2sq = summasionX2X2 - ((sum(X2)*sum(X2))/len(X1))\n",
    "    summasionx1y = summasionX1Y - ((sum(X1)*sum(Y))/len(X1))\n",
    "    summasionx2y = summasionX2Y - ((sum(X2)*sum(Y))/len(X1))\n",
    "    summasionx1x2 = summasionX1X2 - ((sum(X1)*sum(X2))/len(X1))\n",
    "\n",
    "print(\"summasionx1square\", summasionx1sq)\n",
    "print(\"summasionx2square\", summasionx2sq)\n",
    "print(\"summasionx1y\", summasionx1y)\n",
    "print(\"summasionx2y\",summasionx2y)\n",
    "print(\"summasionx1x2\", summasionx1x2)\n",
    "\n",
    "b1 = (((summasionx2sq)*(summasionx1y)) - ((summasionx1x2)*(summasionx2y))) / (((summasionx1sq)*(summasionx2sq)) - \n",
    "                                                                              ((summasionx1x2)*(summasionx1x2)))\n",
    "print(\"value of b1\",b1)\n",
    "b2 = (((summasionx1sq)*(summasionx2y)) - ((summasionx1x2)*(summasionx1y))) / (((summasionx1sq)*(summasionx2sq)) - \n",
    "                                                                              ((summasionx1x2)*(summasionx1x2)))\n",
    "print(\"value of b2\",b2)\n",
    "b0 = mean_Y - (b1* mean_X1) - (b2*mean_X2)\n",
    "print(\"value of b0\",b0)\n",
    "print(\"final equation:y=\" , b0 , \"+\" , b1, \"x1\" , b2, \"x2\" )"
   ]
  }
 ],
 "metadata": {
  "kernelspec": {
   "display_name": "Python 3 (ipykernel)",
   "language": "python",
   "name": "python3"
  },
  "language_info": {
   "codemirror_mode": {
    "name": "ipython",
    "version": 3
   },
   "file_extension": ".py",
   "mimetype": "text/x-python",
   "name": "python",
   "nbconvert_exporter": "python",
   "pygments_lexer": "ipython3",
   "version": "3.13.2"
  }
 },
 "nbformat": 4,
 "nbformat_minor": 5
}
